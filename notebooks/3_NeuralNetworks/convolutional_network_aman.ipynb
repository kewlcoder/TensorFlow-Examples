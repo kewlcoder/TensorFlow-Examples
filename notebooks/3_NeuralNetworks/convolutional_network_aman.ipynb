{
 "cells": [
  {
   "cell_type": "code",
   "execution_count": 129,
   "metadata": {},
   "outputs": [],
   "source": [
    "# A Convolutional Networ implementation example using TensorFlow library.\n",
    "# This example is using the MNIST database of handwritten digits\n",
    "# (http://yann.lecun.com/exdb/mnist/)\n",
    "\n",
    "# Author: Aymeric Damien\n",
    "# Project: https://github.com/aymericdamien/TensorFlow-Examples/"
   ]
  },
  {
   "cell_type": "code",
   "execution_count": 130,
   "metadata": {},
   "outputs": [],
   "source": [
    "# # Import MINST data\n",
    "# import input_data\n",
    "# mnist = input_data.read_data_sets(\"/tmp/data/\", one_hot=True)"
   ]
  },
  {
   "cell_type": "code",
   "execution_count": 131,
   "metadata": {},
   "outputs": [],
   "source": [
    "import tensorflow as tf"
   ]
  },
  {
   "cell_type": "code",
   "execution_count": 132,
   "metadata": {
    "scrolled": true
   },
   "outputs": [
    {
     "name": "stdout",
     "output_type": "stream",
     "text": [
      "Extracting MNIST_data\\train-images-idx3-ubyte.gz\n",
      "Extracting MNIST_data\\train-labels-idx1-ubyte.gz\n",
      "Extracting MNIST_data\\t10k-images-idx3-ubyte.gz\n",
      "Extracting MNIST_data\\t10k-labels-idx1-ubyte.gz\n",
      "Wall time: 1.32 s\n"
     ]
    }
   ],
   "source": [
    "%%time\n",
    "# @aman - the below code used as a replacement of above(not working/commented code)\n",
    "# mnist = input_data.read_data_sets(\"/tmp/data/\", one_hot=True)\n",
    "\n",
    "# working\n",
    "from tensorflow.examples.tutorials.mnist import input_data\n",
    "mnist = input_data.read_data_sets('MNIST_data', one_hot=True)"
   ]
  },
  {
   "cell_type": "code",
   "execution_count": 133,
   "metadata": {},
   "outputs": [
    {
     "name": "stdout",
     "output_type": "stream",
     "text": [
      "Datasets(train=<tensorflow.contrib.learn.python.learn.datasets.mnist.DataSet object at 0x0000020215481EB8>, validation=<tensorflow.contrib.learn.python.learn.datasets.mnist.DataSet object at 0x0000020215481FD0>, test=<tensorflow.contrib.learn.python.learn.datasets.mnist.DataSet object at 0x00000202153B6E48>)\n",
      "[[ 0.  0.  0. ...,  0.  0.  0.]\n",
      " [ 0.  0.  0. ...,  0.  0.  0.]\n",
      " [ 0.  0.  0. ...,  0.  0.  0.]\n",
      " ..., \n",
      " [ 0.  0.  0. ...,  0.  0.  0.]\n",
      " [ 0.  0.  0. ...,  0.  0.  0.]\n",
      " [ 0.  0.  0. ...,  0.  0.  0.]]\n",
      "10000\n"
     ]
    }
   ],
   "source": [
    "# @aman -\n",
    "print(mnist)\n",
    "print(mnist.train.images)\n",
    "print(mnist.test.num_examples)\n"
   ]
  },
  {
   "cell_type": "code",
   "execution_count": 134,
   "metadata": {},
   "outputs": [
    {
     "name": "stdout",
     "output_type": "stream",
     "text": [
      "(784,)\n"
     ]
    },
    {
     "data": {
      "text/plain": [
       "<matplotlib.image.AxesImage at 0x202154ad588>"
      ]
     },
     "execution_count": 134,
     "metadata": {},
     "output_type": "execute_result"
    },
    {
     "data": {
      "image/png": "[encoded data removed]",
      "text/plain": [
       "<Figure size 432x288 with 1 Axes>"
      ]
     },
     "metadata": {},
     "output_type": "display_data"
    }
   ],
   "source": [
    "# @aman -\n",
    "\n",
    "import matplotlib.pyplot as plt\n",
    "%matplotlib inline\n",
    "print(mnist.train.images[0].shape)\n",
    "\n",
    "tmp = mnist.train.images[10].reshape((28,28))\n",
    "\n",
    "plt.imshow(tmp)"
   ]
  },
  {
   "cell_type": "code",
   "execution_count": 135,
   "metadata": {},
   "outputs": [],
   "source": [
    "# Parameters\n",
    "learning_rate = 0.001\n",
    "training_iters = 100000\n",
    "batch_size = 128\n",
    "display_step = 20"
   ]
  },
  {
   "cell_type": "code",
   "execution_count": 136,
   "metadata": {},
   "outputs": [],
   "source": [
    "# Network Parameters\n",
    "n_input = 784 # MNIST data input (img shape: 28*28)\n",
    "n_classes = 10 # MNIST total classes (0-9 digits)\n",
    "dropout = 0.75 # Dropout, probability to keep units"
   ]
  },
  {
   "cell_type": "code",
   "execution_count": 137,
   "metadata": {},
   "outputs": [],
   "source": [
    "# tf Graph input\n",
    "\n",
    "# @aman - tf old version\n",
    "# x = tf.placeholder(tf.types.float32, [None, n_input])\n",
    "# y = tf.placeholder(tf.types.float32, [None, n_classes])\n",
    "# keep_prob = tf.placeholder(tf.types.float32) #dropout (keep probability)\n",
    "\n",
    "x = tf.placeholder(tf.float32, [None, n_input])\n",
    "y = tf.placeholder(tf.float32, [None, n_classes])\n",
    "keep_prob = tf.placeholder(tf.float32) #dropout (keep probability)"
   ]
  },
  {
   "cell_type": "code",
   "execution_count": 138,
   "metadata": {},
   "outputs": [],
   "source": [
    "# Create model\n",
    "def conv2d(img, w, b):\n",
    "    return tf.nn.relu(tf.nn.bias_add(tf.nn.conv2d(img, w, strides=[1, 1, 1, 1], \n",
    "                                                  padding='SAME'),b))\n",
    "\n",
    "def max_pool(img, k):\n",
    "    return tf.nn.max_pool(img, ksize=[1, k, k, 1], strides=[1, k, k, 1], padding='SAME')\n",
    "\n",
    "def conv_net(_X, _weights, _biases, _dropout):\n",
    "    # Reshape input picture\n",
    "    _X = tf.reshape(_X, shape=[-1, 28, 28, 1])\n",
    "\n",
    "    # Convolution Layer\n",
    "    conv1 = conv2d(_X, _weights['wc1'], _biases['bc1'])\n",
    "    # Max Pooling (down-sampling)\n",
    "    conv1 = max_pool(conv1, k=2)\n",
    "    # Apply Dropout\n",
    "    conv1 = tf.nn.dropout(conv1, _dropout)\n",
    "\n",
    "    # Convolution Layer\n",
    "    conv2 = conv2d(conv1, _weights['wc2'], _biases['bc2'])\n",
    "    # Max Pooling (down-sampling)\n",
    "    conv2 = max_pool(conv2, k=2)\n",
    "    # Apply Dropout\n",
    "    conv2 = tf.nn.dropout(conv2, _dropout)\n",
    "\n",
    "    # Fully connected layer\n",
    "    # Reshape conv2 output to fit dense layer input\n",
    "    dense1 = tf.reshape(conv2, [-1, _weights['wd1'].get_shape().as_list()[0]]) \n",
    "    # Relu activation\n",
    "    dense1 = tf.nn.relu(tf.add(tf.matmul(dense1, _weights['wd1']), _biases['bd1']))\n",
    "    # Apply Dropout\n",
    "    dense1 = tf.nn.dropout(dense1, _dropout) # Apply Dropout\n",
    "\n",
    "    # Output, class prediction\n",
    "    out = tf.add(tf.matmul(dense1, _weights['out']), _biases['out'])\n",
    "    return out"
   ]
  },
  {
   "cell_type": "code",
   "execution_count": 139,
   "metadata": {},
   "outputs": [
    {
     "data": {
      "text/plain": [
       "TensorShape([Dimension(3136), Dimension(1024)])"
      ]
     },
     "execution_count": 139,
     "metadata": {},
     "output_type": "execute_result"
    }
   ],
   "source": [
    "weights['wd1'].get_shape()"
   ]
  },
  {
   "cell_type": "code",
   "execution_count": 140,
   "metadata": {},
   "outputs": [],
   "source": [
    "# Store layers weight & bias\n",
    "weights = {\n",
    "    # 5x5 conv, 1 input, 32 outputs\n",
    "    'wc1': tf.Variable(tf.random_normal([5, 5, 1, 32])), \n",
    "    # 5x5 conv, 32 inputs, 64 outputs\n",
    "    'wc2': tf.Variable(tf.random_normal([5, 5, 32, 64])), \n",
    "    # fully connected, 7*7*64 inputs, 1024 outputs\n",
    "    'wd1': tf.Variable(tf.random_normal([7*7*64, 1024])), \n",
    "    # 1024 inputs, 10 outputs (class prediction)\n",
    "    'out': tf.Variable(tf.random_normal([1024, n_classes])) \n",
    "}\n",
    "\n",
    "biases = {\n",
    "    'bc1': tf.Variable(tf.random_normal([32])),\n",
    "    'bc2': tf.Variable(tf.random_normal([64])),\n",
    "    'bd1': tf.Variable(tf.random_normal([1024])),\n",
    "    'out': tf.Variable(tf.random_normal([n_classes]))\n",
    "}"
   ]
  },
  {
   "cell_type": "code",
   "execution_count": 141,
   "metadata": {},
   "outputs": [
    {
     "name": "stdout",
     "output_type": "stream",
     "text": [
      "Wall time: 252 ms\n"
     ]
    }
   ],
   "source": [
    "%%time\n",
    "# Construct model\n",
    "pred = conv_net(x, weights, biases, keep_prob)"
   ]
  },
  {
   "cell_type": "code",
   "execution_count": 142,
   "metadata": {},
   "outputs": [],
   "source": [
    "# Define loss and optimizer\n",
    "# cost = tf.reduce_mean(tf.nn.softmax_cross_entropy_with_logits(pred, y))\n",
    "cost = tf.reduce_mean(tf.nn.softmax_cross_entropy_with_logits_v2(logits= pred, labels= y))\n",
    "optimizer = tf.train.AdamOptimizer(learning_rate=learning_rate).minimize(cost)"
   ]
  },
  {
   "cell_type": "code",
   "execution_count": 143,
   "metadata": {},
   "outputs": [],
   "source": [
    "# Evaluate model\n",
    "correct_pred = tf.equal(tf.argmax(pred,1), tf.argmax(y,1))\n",
    "\n",
    "# @aman - old versoin\n",
    "# accuracy = tf.reduce_mean(tf.cast(correct_pred, tf.types.float32))\n",
    "accuracy = tf.reduce_mean(tf.cast(correct_pred, tf.float32))"
   ]
  },
  {
   "cell_type": "code",
   "execution_count": 144,
   "metadata": {},
   "outputs": [],
   "source": [
    "# Initializing the variables\n",
    "init = tf.initialize_all_variables()"
   ]
  },
  {
   "cell_type": "code",
   "execution_count": 145,
   "metadata": {
    "scrolled": true
   },
   "outputs": [
    {
     "name": "stdout",
     "output_type": "stream",
     "text": [
      "Iter 2560, Minibatch Loss= 18210.218750, Training Accuracy= 0.39062\n",
      "Iter 5120, Minibatch Loss= 7699.315918, Training Accuracy= 0.58594\n",
      "Iter 7680, Minibatch Loss= 7162.924316, Training Accuracy= 0.67969\n",
      "Iter 10240, Minibatch Loss= 6240.480957, Training Accuracy= 0.71875\n",
      "Iter 12800, Minibatch Loss= 4498.306641, Training Accuracy= 0.78906\n",
      "Iter 15360, Minibatch Loss= 3865.179443, Training Accuracy= 0.81250\n",
      "Iter 17920, Minibatch Loss= 2745.434570, Training Accuracy= 0.83594\n",
      "Iter 20480, Minibatch Loss= 3407.853027, Training Accuracy= 0.85156\n",
      "Iter 23040, Minibatch Loss= 2145.144043, Training Accuracy= 0.85938\n",
      "Iter 25600, Minibatch Loss= 1991.177490, Training Accuracy= 0.89844\n",
      "Iter 28160, Minibatch Loss= 2320.489746, Training Accuracy= 0.85938\n",
      "Iter 30720, Minibatch Loss= 2446.942383, Training Accuracy= 0.81250\n",
      "Iter 33280, Minibatch Loss= 2723.604004, Training Accuracy= 0.85156\n",
      "Iter 35840, Minibatch Loss= 2423.077637, Training Accuracy= 0.84375\n",
      "Iter 38400, Minibatch Loss= 2508.249268, Training Accuracy= 0.83594\n",
      "Iter 40960, Minibatch Loss= 973.578735, Training Accuracy= 0.90625\n",
      "Iter 43520, Minibatch Loss= 2491.183350, Training Accuracy= 0.81250\n",
      "Iter 46080, Minibatch Loss= 1350.873047, Training Accuracy= 0.89062\n",
      "Iter 48640, Minibatch Loss= 2245.324707, Training Accuracy= 0.85156\n",
      "Iter 51200, Minibatch Loss= 1543.793091, Training Accuracy= 0.87500\n",
      "Iter 53760, Minibatch Loss= 446.986664, Training Accuracy= 0.92969\n",
      "Iter 56320, Minibatch Loss= 1334.726685, Training Accuracy= 0.90625\n",
      "Iter 58880, Minibatch Loss= 1331.349121, Training Accuracy= 0.88281\n",
      "Iter 61440, Minibatch Loss= 1408.469116, Training Accuracy= 0.85938\n",
      "Iter 64000, Minibatch Loss= 1034.932129, Training Accuracy= 0.91406\n",
      "Iter 66560, Minibatch Loss= 683.610901, Training Accuracy= 0.92188\n",
      "Iter 69120, Minibatch Loss= 1234.610474, Training Accuracy= 0.90625\n",
      "Iter 71680, Minibatch Loss= 988.608154, Training Accuracy= 0.89062\n",
      "Iter 74240, Minibatch Loss= 478.737213, Training Accuracy= 0.89844\n",
      "Iter 76800, Minibatch Loss= 923.340942, Training Accuracy= 0.93750\n",
      "Iter 79360, Minibatch Loss= 901.264832, Training Accuracy= 0.89062\n",
      "Iter 81920, Minibatch Loss= 329.067871, Training Accuracy= 0.92969\n",
      "Iter 84480, Minibatch Loss= 680.891724, Training Accuracy= 0.91406\n",
      "Iter 87040, Minibatch Loss= 625.667542, Training Accuracy= 0.93750\n",
      "Iter 89600, Minibatch Loss= 586.367554, Training Accuracy= 0.92188\n",
      "Iter 92160, Minibatch Loss= 912.590210, Training Accuracy= 0.91406\n",
      "Iter 94720, Minibatch Loss= 336.181183, Training Accuracy= 0.95312\n",
      "Iter 97280, Minibatch Loss= 619.643311, Training Accuracy= 0.88281\n",
      "Iter 99840, Minibatch Loss= 339.138306, Training Accuracy= 0.95312\n",
      "Optimization Finished!\n",
      "Testing Accuracy: 0.933594\n",
      "Wall time: 5min 44s\n"
     ]
    }
   ],
   "source": [
    "%%time\n",
    "loss_list = []\n",
    "iter_list = []\n",
    "accuracy_list = []\n",
    "\n",
    "# Launch the graph\n",
    "with tf.Session() as sess:\n",
    "    sess.run(init)\n",
    "    step = 1\n",
    "    # Keep training until reach max iterations\n",
    "    while step * batch_size < training_iters:\n",
    "        batch_xs, batch_ys = mnist.train.next_batch(batch_size)\n",
    "        # Fit training using batch data\n",
    "        sess.run(optimizer, feed_dict={x: batch_xs, y: batch_ys, keep_prob: dropout})\n",
    "        if step % display_step == 0:\n",
    "            # Calculate batch accuracy\n",
    "            acc = sess.run(accuracy, feed_dict={x: batch_xs, y: batch_ys, keep_prob: 1.})\n",
    "            # Calculate batch loss\n",
    "            loss = sess.run(cost, feed_dict={x: batch_xs, y: batch_ys, keep_prob: 1.})\n",
    "            print(\"Iter \" + str(step*batch_size) + \", Minibatch Loss= \" + \\\n",
    "                  \"{:.6f}\".format(loss) + \", Training Accuracy= \" + \"{:.5f}\".format(acc) )\n",
    "\n",
    "            accuracy_list.append(acc)\n",
    "            loss_list.append(loss)\n",
    "            iter_list.append(str(step*batch_size))\n",
    "            \n",
    "        step += 1\n",
    "    print(\"Optimization Finished!\")\n",
    "    # Calculate accuracy for 256 mnist test images\n",
    "    print(\"Testing Accuracy:\", sess.run(accuracy, feed_dict={x: mnist.test.images[:256], \n",
    "                                                             y: mnist.test.labels[:256], \n",
    "                                                             keep_prob: 1.}) )"
   ]
  },
  {
   "cell_type": "code",
   "execution_count": 146,
   "metadata": {},
   "outputs": [
    {
     "data": {
      "text/plain": [
       "1996800"
      ]
     },
     "execution_count": 146,
     "metadata": {},
     "output_type": "execute_result"
    }
   ],
   "source": [
    "import numpy as np\n",
    "iter_list = [ int(x) for x in iter_list]\n",
    "loss_list = [ float(x) for x in loss_list]\n",
    "accuracy_list = [ float(x) for x in accuracy_list]\n",
    "\n",
    "#np.sum(np.array(iter_list))\n",
    "np.sum(iter_list)\n",
    "\n",
    "#np.sum"
   ]
  },
  {
   "cell_type": "code",
   "execution_count": 147,
   "metadata": {},
   "outputs": [
    {
     "data": {
      "text/plain": [
       "39"
      ]
     },
     "execution_count": 147,
     "metadata": {},
     "output_type": "execute_result"
    }
   ],
   "source": [
    "len(iter_list)"
   ]
  },
  {
   "cell_type": "code",
   "execution_count": 148,
   "metadata": {},
   "outputs": [],
   "source": [
    "# # window = 5\n",
    "# # start = i/window * window\n",
    "\n",
    "# process_list = [iter_list, loss_list, accuracy_list]\n",
    "\n",
    "# for ls in range()\n",
    "# iter_list = [ iter_list[i]/ np.sum(iter_list[i/window * window : (i + window)/window ]) for i in range(len(iter_list))]"
   ]
  },
  {
   "cell_type": "code",
   "execution_count": 149,
   "metadata": {
    "scrolled": true
   },
   "outputs": [
    {
     "data": {
      "text/plain": [
       "[18210.21875,\n",
       " 7699.31591796875,\n",
       " 7162.92431640625,\n",
       " 6240.48095703125,\n",
       " 4498.306640625,\n",
       " 3865.179443359375,\n",
       " 2745.4345703125,\n",
       " 3407.85302734375,\n",
       " 2145.14404296875,\n",
       " 1991.177490234375,\n",
       " 2320.48974609375,\n",
       " 2446.9423828125,\n",
       " 2723.60400390625,\n",
       " 2423.07763671875,\n",
       " 2508.249267578125,\n",
       " 973.5787353515625,\n",
       " 2491.183349609375,\n",
       " 1350.873046875,\n",
       " 2245.32470703125,\n",
       " 1543.7930908203125,\n",
       " 446.9866638183594,\n",
       " 1334.7266845703125,\n",
       " 1331.34912109375,\n",
       " 1408.4691162109375,\n",
       " 1034.93212890625,\n",
       " 683.6109008789062,\n",
       " 1234.6104736328125,\n",
       " 988.608154296875,\n",
       " 478.7372131347656,\n",
       " 923.3409423828125,\n",
       " 901.2648315429688,\n",
       " 329.06787109375,\n",
       " 680.8917236328125,\n",
       " 625.6675415039062,\n",
       " 586.3675537109375,\n",
       " 912.5902099609375,\n",
       " 336.1811828613281,\n",
       " 619.643310546875,\n",
       " 339.1383056640625]"
      ]
     },
     "execution_count": 149,
     "metadata": {},
     "output_type": "execute_result"
    }
   ],
   "source": [
    "iter_list\n",
    "loss_list"
   ]
  },
  {
   "cell_type": "code",
   "execution_count": 150,
   "metadata": {},
   "outputs": [
    {
     "data": {
      "image/png": "[encoded data removed]",
      "text/plain": [
       "<Figure size 432x288 with 1 Axes>"
      ]
     },
     "metadata": {},
     "output_type": "display_data"
    }
   ],
   "source": [
    "import matplotlib.pyplot as plt\n",
    "%matplotlib inline\n",
    "plt.plot(iter_list[::3], loss_list[::3])\n",
    "plt.show()"
   ]
  },
  {
   "cell_type": "code",
   "execution_count": 151,
   "metadata": {},
   "outputs": [
    {
     "data": {
      "image/png": "[encoded data removed]",
      "text/plain": [
       "<Figure size 432x288 with 1 Axes>"
      ]
     },
     "metadata": {},
     "output_type": "display_data"
    }
   ],
   "source": [
    "plt.plot(iter_list[::3], accuracy_list[::3])\n",
    "plt.show()"
   ]
  },
  {
   "cell_type": "code",
   "execution_count": 152,
   "metadata": {},
   "outputs": [
    {
     "name": "stdout",
     "output_type": "stream",
     "text": [
      "Wall time: 5.23 s\n"
     ]
    }
   ],
   "source": [
    "%%time\n",
    "writer = tf.summary.FileWriter(\"summary_logs_convnet\", sess.graph)"
   ]
  },
  {
   "cell_type": "code",
   "execution_count": null,
   "metadata": {},
   "outputs": [],
   "source": []
  }
 ],
 "metadata": {
  "kernelspec": {
   "display_name": "Python [conda env:Anaconda3]",
   "language": "python",
   "name": "conda-env-Anaconda3-py"
  },
  "language_info": {
   "codemirror_mode": {
    "name": "ipython",
    "version": 3
   },
   "file_extension": ".py",
   "mimetype": "text/x-python",
   "name": "python",
   "nbconvert_exporter": "python",
   "pygments_lexer": "ipython3",
   "version": "3.6.4"
  }
 },
 "nbformat": 4,
 "nbformat_minor": 1
}
